{
 "cells": [
  {
   "cell_type": "markdown",
   "metadata": {},
   "source": [
    "To support the 2020 MSOM Data Driven Research Challenge dataset provided by JD.com, this document provides a simple illustrative example on what is in the data and how to connect the data between varies tables to make effective analysis. The notebook can be used as a reference to help understanding the dataset. It is als runnable using the dataset for data exploration as a Jupyter notebook.\n",
    "For more detailed description of the data, data schema and underlying business scenario, please refer to the main document."
   ]
  },
  {
   "cell_type": "markdown",
   "metadata": {},
   "source": [
    "# Prerequirements\n",
    "- To run the notebook, please make sure you have ___Python___ and ___Jupyter___ (https://jupyter.org/) installed and started.\n",
    "- Please make sure the dataset files are in the same folder as the notebook file.\n",
    "- You also need ___pandas___ (https://pandas.pydata.org/) and ___numpy___ (https://www.numpy.org/) library packages installed."
   ]
  },
  {
   "cell_type": "code",
   "execution_count": 1,
   "metadata": {
    "ExecuteTime": {
     "end_time": "2020-10-04T14:50:42.801990Z",
     "start_time": "2020-10-04T14:50:41.336881Z"
    }
   },
   "outputs": [],
   "source": [
    "import pandas as pd\n",
    "import numpy as np\n",
    "import datetime as dt"
   ]
  },
  {
   "cell_type": "markdown",
   "metadata": {},
   "source": [
    "# Data Description"
   ]
  },
  {
   "cell_type": "markdown",
   "metadata": {},
   "source": [
    "- The data sets provided by JD.com offer a detailed view on the activities associated with 31,868 SKUs within one anonymized consumable category during the month of March in 2018.\n",
    "\n",
    "- Each SKU can be identified either as “first party owned” (1P) or “third-partyowned” (3P)\n",
    "- 1P SKUs are managed by JD.com, including product assortments, inventory replenishments, product pricing, order deliveries, and after-sales customer services. \n",
    "- They compete on the JD.com platform for sales through different pricing strategies and marketing activities."
   ]
  },
  {
   "cell_type": "markdown",
   "metadata": {},
   "source": [
    "# Load and View Data"
   ]
  },
  {
   "cell_type": "markdown",
   "metadata": {},
   "source": [
    "- Loading all 7 data tables"
   ]
  },
  {
   "cell_type": "code",
   "execution_count": 2,
   "metadata": {
    "ExecuteTime": {
     "end_time": "2020-10-04T14:51:36.993468Z",
     "start_time": "2020-10-04T14:50:42.801990Z"
    }
   },
   "outputs": [],
   "source": [
    "# 'skus' table\n",
    "skus = pd.read_csv('../Data/JD_sku_data.csv')\n",
    "# 'users' table\n",
    "users = pd.read_csv('../Data/JD_user_data.csv')\n",
    "# 'clicks' table\n",
    "clicks = pd.read_csv('../Data/JD_click_data.csv')\n",
    "# 'orders' table\n",
    "orders = pd.read_csv('../Data/JD_order_data.csv')\n",
    "# 'delivery' table\n",
    "delivery = pd.read_csv('../Data/JD_delivery_data.csv')\n",
    "# 'inventory' table\n",
    "inventory = pd.read_csv('../Data/JD_inventory_data.csv')\n",
    "# 'network' table\n",
    "network = pd.read_csv('../Data/JD_network_data.csv')"
   ]
  },
  {
   "cell_type": "markdown",
   "metadata": {},
   "source": [
    "### ___skus___ table"
   ]
  },
  {
   "cell_type": "code",
   "execution_count": 3,
   "metadata": {
    "ExecuteTime": {
     "end_time": "2020-10-04T14:51:37.173576Z",
     "start_time": "2020-10-04T14:51:37.024710Z"
    }
   },
   "outputs": [
    {
     "data": {
      "text/html": [
       "<div>\n",
       "<style scoped>\n",
       "    .dataframe tbody tr th:only-of-type {\n",
       "        vertical-align: middle;\n",
       "    }\n",
       "\n",
       "    .dataframe tbody tr th {\n",
       "        vertical-align: top;\n",
       "    }\n",
       "\n",
       "    .dataframe thead th {\n",
       "        text-align: right;\n",
       "    }\n",
       "</style>\n",
       "<table border=\"1\" class=\"dataframe\">\n",
       "  <thead>\n",
       "    <tr style=\"text-align: right;\">\n",
       "      <th></th>\n",
       "      <th>sku_ID</th>\n",
       "      <th>type</th>\n",
       "      <th>brand_ID</th>\n",
       "      <th>attribute1</th>\n",
       "      <th>attribute2</th>\n",
       "      <th>activate_date</th>\n",
       "      <th>deactivate_date</th>\n",
       "    </tr>\n",
       "  </thead>\n",
       "  <tbody>\n",
       "    <tr>\n",
       "      <th>0</th>\n",
       "      <td>a234e08c57</td>\n",
       "      <td>1</td>\n",
       "      <td>c3ab4bf4d9</td>\n",
       "      <td>3.0</td>\n",
       "      <td>60.0</td>\n",
       "      <td>NaN</td>\n",
       "      <td>NaN</td>\n",
       "    </tr>\n",
       "    <tr>\n",
       "      <th>1</th>\n",
       "      <td>6449e1fd87</td>\n",
       "      <td>1</td>\n",
       "      <td>1d8b4b4c63</td>\n",
       "      <td>2.0</td>\n",
       "      <td>50.0</td>\n",
       "      <td>NaN</td>\n",
       "      <td>NaN</td>\n",
       "    </tr>\n",
       "    <tr>\n",
       "      <th>2</th>\n",
       "      <td>09b70fcd83</td>\n",
       "      <td>2</td>\n",
       "      <td>eb7d2a675a</td>\n",
       "      <td>3.0</td>\n",
       "      <td>70.0</td>\n",
       "      <td>NaN</td>\n",
       "      <td>NaN</td>\n",
       "    </tr>\n",
       "    <tr>\n",
       "      <th>3</th>\n",
       "      <td>acad9fed04</td>\n",
       "      <td>2</td>\n",
       "      <td>9b0d3a5fc6</td>\n",
       "      <td>3.0</td>\n",
       "      <td>70.0</td>\n",
       "      <td>NaN</td>\n",
       "      <td>NaN</td>\n",
       "    </tr>\n",
       "    <tr>\n",
       "      <th>4</th>\n",
       "      <td>2fa77e3b4d</td>\n",
       "      <td>2</td>\n",
       "      <td>b681299668</td>\n",
       "      <td>-</td>\n",
       "      <td>-</td>\n",
       "      <td>NaN</td>\n",
       "      <td>NaN</td>\n",
       "    </tr>\n",
       "  </tbody>\n",
       "</table>\n",
       "</div>"
      ],
      "text/plain": [
       "       sku_ID  type    brand_ID attribute1 attribute2 activate_date  \\\n",
       "0  a234e08c57     1  c3ab4bf4d9        3.0       60.0           NaN   \n",
       "1  6449e1fd87     1  1d8b4b4c63        2.0       50.0           NaN   \n",
       "2  09b70fcd83     2  eb7d2a675a        3.0       70.0           NaN   \n",
       "3  acad9fed04     2  9b0d3a5fc6        3.0       70.0           NaN   \n",
       "4  2fa77e3b4d     2  b681299668          -          -           NaN   \n",
       "\n",
       "  deactivate_date  \n",
       "0             NaN  \n",
       "1             NaN  \n",
       "2             NaN  \n",
       "3             NaN  \n",
       "4             NaN  "
      ]
     },
     "execution_count": 3,
     "metadata": {},
     "output_type": "execute_result"
    }
   ],
   "source": [
    "skus.head()"
   ]
  },
  {
   "cell_type": "markdown",
   "metadata": {},
   "source": [
    "| Field           | Data type | Description      | Sample Value | Range             |\n",
    "|-----------------|-----------|------------------|--------------|-------------------|\n",
    "| sku_ID          | string    | unique ID        | b4859434f    | NaN               |\n",
    "| type            | int       | 1P or 3P         | 1            | 1 or 2            |\n",
    "| brand_ID        | string    | unique brand ID  | c392432fdjso | NaN               |\n",
    "| attribute1      | int       | attribute1       | 3            | 1 - 4             |\n",
    "| attribute2      | int       | attribute2       | 60           | 30 - 100          |\n",
    "| activate_date   | string    | first introduced | 2018-03-01   | start - end March |\n",
    "| deactivate_date | string    | terminated       | 2018-03-01   | \"                 |"
   ]
  },
  {
   "cell_type": "markdown",
   "metadata": {},
   "source": [
    "- 1,167 of them are 1P SKUs (type value = 1)\n",
    "- 30,701 of them are 3P SKUs (type value = 2)\n",
    "- However, only 9,159 SKUs out of 32,343 were involved in purchase activities during March of 2018. \n",
    "- For each attribute, a higher value indicates better performance \n",
    "- many SKUs have missing values for attributes\n",
    "- activate_date and deactivate_date: the data set only lists a valid activate_date and deactivate_date when one of these dates occurred within the month of March in 2018. \n",
    "- 1,141 SKUs were deactivated and 3,058 SKUs were activated during March, and their monthly sales account for 2% and 5% of the total monthly sales, respectively"
   ]
  },
  {
   "cell_type": "markdown",
   "metadata": {},
   "source": [
    "### ___user___ table"
   ]
  },
  {
   "cell_type": "code",
   "execution_count": 4,
   "metadata": {
    "ExecuteTime": {
     "end_time": "2020-10-04T14:51:37.199267Z",
     "start_time": "2020-10-04T14:51:37.175293Z"
    }
   },
   "outputs": [
    {
     "data": {
      "text/html": [
       "<div>\n",
       "<style scoped>\n",
       "    .dataframe tbody tr th:only-of-type {\n",
       "        vertical-align: middle;\n",
       "    }\n",
       "\n",
       "    .dataframe tbody tr th {\n",
       "        vertical-align: top;\n",
       "    }\n",
       "\n",
       "    .dataframe thead th {\n",
       "        text-align: right;\n",
       "    }\n",
       "</style>\n",
       "<table border=\"1\" class=\"dataframe\">\n",
       "  <thead>\n",
       "    <tr style=\"text-align: right;\">\n",
       "      <th></th>\n",
       "      <th>user_ID</th>\n",
       "      <th>user_level</th>\n",
       "      <th>first_order_month</th>\n",
       "      <th>plus</th>\n",
       "      <th>gender</th>\n",
       "      <th>age</th>\n",
       "      <th>marital_status</th>\n",
       "      <th>education</th>\n",
       "      <th>city_level</th>\n",
       "      <th>purchase_power</th>\n",
       "    </tr>\n",
       "  </thead>\n",
       "  <tbody>\n",
       "    <tr>\n",
       "      <th>0</th>\n",
       "      <td>000089d6a6</td>\n",
       "      <td>1</td>\n",
       "      <td>2017-08</td>\n",
       "      <td>0</td>\n",
       "      <td>F</td>\n",
       "      <td>26-35</td>\n",
       "      <td>S</td>\n",
       "      <td>3</td>\n",
       "      <td>4</td>\n",
       "      <td>3</td>\n",
       "    </tr>\n",
       "    <tr>\n",
       "      <th>1</th>\n",
       "      <td>0000babd1f</td>\n",
       "      <td>1</td>\n",
       "      <td>2018-03</td>\n",
       "      <td>0</td>\n",
       "      <td>U</td>\n",
       "      <td>U</td>\n",
       "      <td>U</td>\n",
       "      <td>-1</td>\n",
       "      <td>-1</td>\n",
       "      <td>-1</td>\n",
       "    </tr>\n",
       "    <tr>\n",
       "      <th>2</th>\n",
       "      <td>0000bc018b</td>\n",
       "      <td>3</td>\n",
       "      <td>2016-06</td>\n",
       "      <td>0</td>\n",
       "      <td>F</td>\n",
       "      <td>&gt;=56</td>\n",
       "      <td>M</td>\n",
       "      <td>3</td>\n",
       "      <td>2</td>\n",
       "      <td>3</td>\n",
       "    </tr>\n",
       "    <tr>\n",
       "      <th>3</th>\n",
       "      <td>0000d0e5ab</td>\n",
       "      <td>3</td>\n",
       "      <td>2014-06</td>\n",
       "      <td>0</td>\n",
       "      <td>M</td>\n",
       "      <td>26-35</td>\n",
       "      <td>M</td>\n",
       "      <td>3</td>\n",
       "      <td>2</td>\n",
       "      <td>2</td>\n",
       "    </tr>\n",
       "    <tr>\n",
       "      <th>4</th>\n",
       "      <td>0000dce472</td>\n",
       "      <td>3</td>\n",
       "      <td>2012-08</td>\n",
       "      <td>1</td>\n",
       "      <td>U</td>\n",
       "      <td>U</td>\n",
       "      <td>U</td>\n",
       "      <td>-1</td>\n",
       "      <td>-1</td>\n",
       "      <td>-1</td>\n",
       "    </tr>\n",
       "  </tbody>\n",
       "</table>\n",
       "</div>"
      ],
      "text/plain": [
       "      user_ID  user_level first_order_month  plus gender    age  \\\n",
       "0  000089d6a6           1           2017-08     0      F  26-35   \n",
       "1  0000babd1f           1           2018-03     0      U      U   \n",
       "2  0000bc018b           3           2016-06     0      F   >=56   \n",
       "3  0000d0e5ab           3           2014-06     0      M  26-35   \n",
       "4  0000dce472           3           2012-08     1      U      U   \n",
       "\n",
       "  marital_status  education  city_level  purchase_power  \n",
       "0              S          3           4               3  \n",
       "1              U         -1          -1              -1  \n",
       "2              M          3           2               3  \n",
       "3              M          3           2               2  \n",
       "4              U         -1          -1              -1  "
      ]
     },
     "execution_count": 4,
     "metadata": {},
     "output_type": "execute_result"
    }
   ],
   "source": [
    "users.head()"
   ]
  },
  {
   "cell_type": "markdown",
   "metadata": {},
   "source": [
    "|             Field | Data Type |                                              Description | sample value |                                                                                          value range |\n",
    "|:------------------|:----------|:---------------------------------------------------------|:-------------|:-----------------------------------------------------------------------------------------------------|\n",
    "|           user_ID |    string |                                                 uniqueID |  302582dnfsf |                                                                                                  NaN |\n",
    "|        user_level |       int | higher user level = more money they've spent on the site |           10 |                                                                                         0-4 , 10, -1 |\n",
    "| first_order_month |    string |           month when customer placed first order with JD |      2017-07 |                                                                                                      |\n",
    "|              plus |       int |                        if user is with a plus membership |            0 |                                                                                               0 or 1 |\n",
    "|            gender |    string |                                  user gender (estimated) |            F |                                                                                            F , M , U |\n",
    "|               age |    string |                               user age range (estimated) |        26-35 |                                                   <=15, 16-25, 26-35, 36-45, 46-55, >=56, U: unknown |\n",
    "|    marital_status |    string |                          user marital status (estimated) |            M |                                                                     M: Married, S: Single, U:Unknown |\n",
    "|         education |       int |                         user education level (estimated) |            3 | 1: less than high school, 2: high school, 3: Bachelor’s degree, 4: post-graduate degree, −1: unknown |\n",
    "|    purchase_power |       int |                                                estimated |            2 |                                                        1 - 5,  1 being the highest; −1 no estimation |\n",
    "|        city_level |       int |                               city level of user address |            1 |                                                                                               1 - 5  |"
   ]
  },
  {
   "cell_type": "markdown",
   "metadata": {},
   "source": [
    "- 2.5 million users\n",
    "- 457,298 users who purchased at least one SKUs during March of 2018.\n",
    "- The field first_order_month specifies the month when the user made their “first purchase” on JD.com. \n",
    "- user_level takes on a value of 0-4, higher user_level = higher total purchase value in the past. \n",
    "- enterprise users value of 10. \n",
    "- first-time purchasers, user_level value −1.\n",
    "- JD PLUS membership costs up to USD45 per year and members enjoy a variety of perquisites including exclusive discounts, higher purchasing reward rate, free delivery, and return with no pre-conditions. \n",
    "- About 18% of those 458,269 customers in the data set are JD PLUS members.\n",
    "- level 1 highly industrialized cities such as Beijing; level 2 cities correspond to provincial capitals; level 3 to 5 cities are smaller cities; if there are no data then the value is −1"
   ]
  },
  {
   "cell_type": "markdown",
   "metadata": {},
   "source": [
    "### ___clicks___ table"
   ]
  },
  {
   "cell_type": "code",
   "execution_count": 5,
   "metadata": {
    "ExecuteTime": {
     "end_time": "2020-10-04T14:51:37.214904Z",
     "start_time": "2020-10-04T14:51:37.199267Z"
    }
   },
   "outputs": [
    {
     "data": {
      "text/html": [
       "<div>\n",
       "<style scoped>\n",
       "    .dataframe tbody tr th:only-of-type {\n",
       "        vertical-align: middle;\n",
       "    }\n",
       "\n",
       "    .dataframe tbody tr th {\n",
       "        vertical-align: top;\n",
       "    }\n",
       "\n",
       "    .dataframe thead th {\n",
       "        text-align: right;\n",
       "    }\n",
       "</style>\n",
       "<table border=\"1\" class=\"dataframe\">\n",
       "  <thead>\n",
       "    <tr style=\"text-align: right;\">\n",
       "      <th></th>\n",
       "      <th>sku_ID</th>\n",
       "      <th>user_ID</th>\n",
       "      <th>request_time</th>\n",
       "      <th>channel</th>\n",
       "    </tr>\n",
       "  </thead>\n",
       "  <tbody>\n",
       "    <tr>\n",
       "      <th>0</th>\n",
       "      <td>a234e08c57</td>\n",
       "      <td>4c3d6d10c2</td>\n",
       "      <td>2018-03-01 23:57:53</td>\n",
       "      <td>wechat</td>\n",
       "    </tr>\n",
       "    <tr>\n",
       "      <th>1</th>\n",
       "      <td>6449e1fd87</td>\n",
       "      <td>-</td>\n",
       "      <td>2018-03-01 16:13:48</td>\n",
       "      <td>wechat</td>\n",
       "    </tr>\n",
       "    <tr>\n",
       "      <th>2</th>\n",
       "      <td>09b70fcd83</td>\n",
       "      <td>2791ec4485</td>\n",
       "      <td>2018-03-01 22:10:51</td>\n",
       "      <td>wechat</td>\n",
       "    </tr>\n",
       "    <tr>\n",
       "      <th>3</th>\n",
       "      <td>09b70fcd83</td>\n",
       "      <td>eb0718c1c9</td>\n",
       "      <td>2018-03-01 16:34:08</td>\n",
       "      <td>wechat</td>\n",
       "    </tr>\n",
       "    <tr>\n",
       "      <th>4</th>\n",
       "      <td>09b70fcd83</td>\n",
       "      <td>59f84cf342</td>\n",
       "      <td>2018-03-01 22:20:35</td>\n",
       "      <td>wechat</td>\n",
       "    </tr>\n",
       "  </tbody>\n",
       "</table>\n",
       "</div>"
      ],
      "text/plain": [
       "       sku_ID     user_ID         request_time channel\n",
       "0  a234e08c57  4c3d6d10c2  2018-03-01 23:57:53  wechat\n",
       "1  6449e1fd87           -  2018-03-01 16:13:48  wechat\n",
       "2  09b70fcd83  2791ec4485  2018-03-01 22:10:51  wechat\n",
       "3  09b70fcd83  eb0718c1c9  2018-03-01 16:34:08  wechat\n",
       "4  09b70fcd83  59f84cf342  2018-03-01 22:20:35  wechat"
      ]
     },
     "execution_count": 5,
     "metadata": {},
     "output_type": "execute_result"
    }
   ],
   "source": [
    "clicks.head()"
   ]
  },
  {
   "cell_type": "markdown",
   "metadata": {},
   "source": [
    "- request time are when they clicked on the SKU detail page, tells them details about the product, and it must be purchased through this page\n",
    "- channel: pc, mobile, app, wechat, others"
   ]
  },
  {
   "cell_type": "markdown",
   "metadata": {},
   "source": [
    "### ___orders___ table"
   ]
  },
  {
   "cell_type": "code",
   "execution_count": 6,
   "metadata": {
    "ExecuteTime": {
     "end_time": "2020-10-04T14:51:37.246081Z",
     "start_time": "2020-10-04T14:51:37.214904Z"
    }
   },
   "outputs": [
    {
     "data": {
      "text/html": [
       "<div>\n",
       "<style scoped>\n",
       "    .dataframe tbody tr th:only-of-type {\n",
       "        vertical-align: middle;\n",
       "    }\n",
       "\n",
       "    .dataframe tbody tr th {\n",
       "        vertical-align: top;\n",
       "    }\n",
       "\n",
       "    .dataframe thead th {\n",
       "        text-align: right;\n",
       "    }\n",
       "</style>\n",
       "<table border=\"1\" class=\"dataframe\">\n",
       "  <thead>\n",
       "    <tr style=\"text-align: right;\">\n",
       "      <th></th>\n",
       "      <th>order_ID</th>\n",
       "      <th>user_ID</th>\n",
       "      <th>sku_ID</th>\n",
       "      <th>order_date</th>\n",
       "      <th>order_time</th>\n",
       "      <th>quantity</th>\n",
       "      <th>type</th>\n",
       "      <th>promise</th>\n",
       "      <th>original_unit_price</th>\n",
       "      <th>final_unit_price</th>\n",
       "      <th>direct_discount_per_unit</th>\n",
       "      <th>quantity_discount_per_unit</th>\n",
       "      <th>bundle_discount_per_unit</th>\n",
       "      <th>coupon_discount_per_unit</th>\n",
       "      <th>gift_item</th>\n",
       "      <th>dc_ori</th>\n",
       "      <th>dc_des</th>\n",
       "    </tr>\n",
       "  </thead>\n",
       "  <tbody>\n",
       "    <tr>\n",
       "      <th>0</th>\n",
       "      <td>d0cf5cc6db</td>\n",
       "      <td>0abe9ef2ce</td>\n",
       "      <td>581d5b54c1</td>\n",
       "      <td>2018-03-01</td>\n",
       "      <td>2018-03-01 17:14:25.0</td>\n",
       "      <td>1</td>\n",
       "      <td>2</td>\n",
       "      <td>-</td>\n",
       "      <td>89.0</td>\n",
       "      <td>79.0</td>\n",
       "      <td>0.0</td>\n",
       "      <td>10.0</td>\n",
       "      <td>0.0</td>\n",
       "      <td>0.0</td>\n",
       "      <td>0</td>\n",
       "      <td>4</td>\n",
       "      <td>28</td>\n",
       "    </tr>\n",
       "    <tr>\n",
       "      <th>1</th>\n",
       "      <td>7444318d01</td>\n",
       "      <td>33a9e56257</td>\n",
       "      <td>067b673f2b</td>\n",
       "      <td>2018-03-01</td>\n",
       "      <td>2018-03-01 11:10:40.0</td>\n",
       "      <td>1</td>\n",
       "      <td>1</td>\n",
       "      <td>2</td>\n",
       "      <td>99.9</td>\n",
       "      <td>53.9</td>\n",
       "      <td>5.0</td>\n",
       "      <td>41.0</td>\n",
       "      <td>0.0</td>\n",
       "      <td>0.0</td>\n",
       "      <td>0</td>\n",
       "      <td>28</td>\n",
       "      <td>28</td>\n",
       "    </tr>\n",
       "    <tr>\n",
       "      <th>2</th>\n",
       "      <td>f973b01694</td>\n",
       "      <td>4ea3cf408f</td>\n",
       "      <td>623d0a582a</td>\n",
       "      <td>2018-03-01</td>\n",
       "      <td>2018-03-01 09:13:26.0</td>\n",
       "      <td>1</td>\n",
       "      <td>1</td>\n",
       "      <td>2</td>\n",
       "      <td>78.0</td>\n",
       "      <td>58.5</td>\n",
       "      <td>19.5</td>\n",
       "      <td>0.0</td>\n",
       "      <td>0.0</td>\n",
       "      <td>0.0</td>\n",
       "      <td>0</td>\n",
       "      <td>28</td>\n",
       "      <td>28</td>\n",
       "    </tr>\n",
       "    <tr>\n",
       "      <th>3</th>\n",
       "      <td>8c1cec8d4b</td>\n",
       "      <td>b87cb736cb</td>\n",
       "      <td>fc5289b139</td>\n",
       "      <td>2018-03-01</td>\n",
       "      <td>2018-03-01 21:29:50.0</td>\n",
       "      <td>1</td>\n",
       "      <td>1</td>\n",
       "      <td>2</td>\n",
       "      <td>61.0</td>\n",
       "      <td>35.0</td>\n",
       "      <td>0.0</td>\n",
       "      <td>26.0</td>\n",
       "      <td>0.0</td>\n",
       "      <td>0.0</td>\n",
       "      <td>0</td>\n",
       "      <td>4</td>\n",
       "      <td>28</td>\n",
       "    </tr>\n",
       "    <tr>\n",
       "      <th>4</th>\n",
       "      <td>d43a33c38a</td>\n",
       "      <td>4829223b6f</td>\n",
       "      <td>623d0a582a</td>\n",
       "      <td>2018-03-01</td>\n",
       "      <td>2018-03-01 19:13:37.0</td>\n",
       "      <td>1</td>\n",
       "      <td>1</td>\n",
       "      <td>1</td>\n",
       "      <td>78.0</td>\n",
       "      <td>53.0</td>\n",
       "      <td>19.0</td>\n",
       "      <td>0.0</td>\n",
       "      <td>0.0</td>\n",
       "      <td>6.0</td>\n",
       "      <td>0</td>\n",
       "      <td>3</td>\n",
       "      <td>16</td>\n",
       "    </tr>\n",
       "  </tbody>\n",
       "</table>\n",
       "</div>"
      ],
      "text/plain": [
       "     order_ID     user_ID      sku_ID  order_date             order_time  \\\n",
       "0  d0cf5cc6db  0abe9ef2ce  581d5b54c1  2018-03-01  2018-03-01 17:14:25.0   \n",
       "1  7444318d01  33a9e56257  067b673f2b  2018-03-01  2018-03-01 11:10:40.0   \n",
       "2  f973b01694  4ea3cf408f  623d0a582a  2018-03-01  2018-03-01 09:13:26.0   \n",
       "3  8c1cec8d4b  b87cb736cb  fc5289b139  2018-03-01  2018-03-01 21:29:50.0   \n",
       "4  d43a33c38a  4829223b6f  623d0a582a  2018-03-01  2018-03-01 19:13:37.0   \n",
       "\n",
       "   quantity  type promise  original_unit_price  final_unit_price  \\\n",
       "0         1     2       -                 89.0              79.0   \n",
       "1         1     1       2                 99.9              53.9   \n",
       "2         1     1       2                 78.0              58.5   \n",
       "3         1     1       2                 61.0              35.0   \n",
       "4         1     1       1                 78.0              53.0   \n",
       "\n",
       "   direct_discount_per_unit  quantity_discount_per_unit  \\\n",
       "0                       0.0                        10.0   \n",
       "1                       5.0                        41.0   \n",
       "2                      19.5                         0.0   \n",
       "3                       0.0                        26.0   \n",
       "4                      19.0                         0.0   \n",
       "\n",
       "   bundle_discount_per_unit  coupon_discount_per_unit  gift_item  dc_ori  \\\n",
       "0                       0.0                       0.0          0       4   \n",
       "1                       0.0                       0.0          0      28   \n",
       "2                       0.0                       0.0          0      28   \n",
       "3                       0.0                       0.0          0       4   \n",
       "4                       0.0                       6.0          0       3   \n",
       "\n",
       "   dc_des  \n",
       "0      28  \n",
       "1      28  \n",
       "2      28  \n",
       "3      28  \n",
       "4      16  "
      ]
     },
     "execution_count": 6,
     "metadata": {},
     "output_type": "execute_result"
    }
   ],
   "source": [
    "orders.head()"
   ]
  },
  {
   "cell_type": "markdown",
   "metadata": {
    "ExecuteTime": {
     "end_time": "2020-04-07T15:22:36.107563Z",
     "start_time": "2020-04-07T15:22:36.042036Z"
    }
   },
   "source": [
    "| Field                      | Data type | Description            |\n",
    "|:----------------------------|:-----------|:------------------------|\n",
    "| orderID                    | string    |                        |\n",
    "| userID                     | string    |                        |\n",
    "| skuIS                      | string    |                        |\n",
    "| order_date                 | string    | yyyy-mm-dd             |\n",
    "| order_time                 | string    | yyyy-mm-dd HH:MM:SS    |\n",
    "| quantity                   | int       | #units ordered         |\n",
    "| type                       | int       | 1P or 3P               |\n",
    "| promise                    | int       | expected delivery days |\n",
    "| original_unit_price        | float     |                        |\n",
    "| final_unti_price           | float     |                        |\n",
    "| direct_discount_per_unit   | float     |                        |\n",
    "| quantity_discount_per_unit | float     |                        |\n",
    "| bundle_discount_per_unit   | float     |                        |\n",
    "| coupon_discount_per_unit   | float     |                        |\n",
    "| gift_item | int | gift or not |\n",
    "| dc_ori | int | distribution center ID originate |\n",
    "| dc_des | int | distribution center ID destination |\n"
   ]
  },
  {
   "cell_type": "markdown",
   "metadata": {},
   "source": [
    "- 486,928 unique customer orders\n",
    "- If a customer ordered multiple SKUs, then the same order_ID will appear in multiple rows of SKUs\n",
    "- When promise = 1, this refers to the standard same- and next-day delivery promise: Orders placed before 11am will be delivered on the same day, and orders placed before 11pm will be delivered before 3pm on the following day. When promise is x (x > 1), this indicates that the delivery will arrive at day t + x, where t is the day the order is placed. We note that promise information is not available for a small fraction of 1P orders and for most of the 3P orders\n",
    "-  district = warehouse ID that covers that district. dc_ori = the warehouse the package is from. dc_des = warehouse nearest to the customer"
   ]
  },
  {
   "cell_type": "markdown",
   "metadata": {},
   "source": [
    "#### Promotions\n",
    "\n",
    "The “gap” between the original price and the final price represents the coupons and discounts\n",
    "associated with different promotional activities for each SKU. There are four common types of\n",
    "promotional discounts on the JD.com platform: (1) SKU direct discount, (2) group promotion,\n",
    "(3) bundle promotion, and (4) gift items.\n",
    "These four types of discounts can be described asfollows:\n",
    "\n",
    "\n",
    "- (1) The seller of an SKU may offer a price cut in terms of a direct discount. This discount reflects the reduction in the list price as stated on the product detail page.\n",
    "- (2) The seller of an SKU may offer a quantity discount to entice the customer to buy more. This quantity discount promotion can take different forms including “get an RMB 100 discount if buying over RMB 199” or “buy 3 and get 1 free.” We note that the quantity discount promotion is usually on the order level and we apply a simple allocation rule to calculate the contribution provided by each SKU in the order.\n",
    "- (3) The seller may offer a bundle_discount if a customer buys a “pre-specified bundle” of SKUs within an order.\n",
    "- (4) The seller may offer an SKU as a “free gift” (gift_item value = 1) if the customer purchases a “pre-specified set” of SKUs (e.g., get a free eraser if you buy x pencils and y pads of paper). The final_unit_price for each gift item is always equal to 0.\n",
    "\n",
    "\n",
    "Coupons can also be applied to the order after all other promotions are applied. In contrast to the\n",
    "four aforementioned promotion activities where discounts will be applied automatically once\n",
    "certain criteria are met, customers need to “clip” (or claim) a coupon before making a\n",
    "purchase. The field coupon_discount records the coupon promotional value associated with an\n",
    "order. Similar to quantity discount as explained earlier, the discount value of the coupon is\n",
    "allocated between items in the same order using an allocation rule when necessary.\n",
    "\n",
    "\n",
    "We note that, for each entry in the orders table, the gap between original_unit_price and\n",
    "final_unit_price should always equal the sum of direct_discount, group_discount,\n",
    "bundle_discount, and coupon_discount. "
   ]
  },
  {
   "cell_type": "markdown",
   "metadata": {},
   "source": [
    "### ___delivery___ table"
   ]
  },
  {
   "cell_type": "code",
   "execution_count": 7,
   "metadata": {
    "ExecuteTime": {
     "end_time": "2020-10-04T14:51:37.261705Z",
     "start_time": "2020-10-04T14:51:37.246081Z"
    }
   },
   "outputs": [
    {
     "data": {
      "text/html": [
       "<div>\n",
       "<style scoped>\n",
       "    .dataframe tbody tr th:only-of-type {\n",
       "        vertical-align: middle;\n",
       "    }\n",
       "\n",
       "    .dataframe tbody tr th {\n",
       "        vertical-align: top;\n",
       "    }\n",
       "\n",
       "    .dataframe thead th {\n",
       "        text-align: right;\n",
       "    }\n",
       "</style>\n",
       "<table border=\"1\" class=\"dataframe\">\n",
       "  <thead>\n",
       "    <tr style=\"text-align: right;\">\n",
       "      <th></th>\n",
       "      <th>package_ID</th>\n",
       "      <th>order_ID</th>\n",
       "      <th>type</th>\n",
       "      <th>ship_out_time</th>\n",
       "      <th>arr_station_time</th>\n",
       "      <th>arr_time</th>\n",
       "    </tr>\n",
       "  </thead>\n",
       "  <tbody>\n",
       "    <tr>\n",
       "      <th>0</th>\n",
       "      <td>dc3d6d2258</td>\n",
       "      <td>dc3d6d2258</td>\n",
       "      <td>1</td>\n",
       "      <td>2018-03-01 08:00:00</td>\n",
       "      <td>2018-03-01 15:00:00</td>\n",
       "      <td>2018-03-01 18:00:00</td>\n",
       "    </tr>\n",
       "    <tr>\n",
       "      <th>1</th>\n",
       "      <td>19802a570c</td>\n",
       "      <td>19802a570c</td>\n",
       "      <td>1</td>\n",
       "      <td>2018-03-01 10:00:00</td>\n",
       "      <td>2018-03-01 15:00:00</td>\n",
       "      <td>2018-03-01 17:00:00</td>\n",
       "    </tr>\n",
       "    <tr>\n",
       "      <th>2</th>\n",
       "      <td>e22627af66</td>\n",
       "      <td>e22627af66</td>\n",
       "      <td>1</td>\n",
       "      <td>2018-03-01 11:00:00</td>\n",
       "      <td>2018-03-01 15:00:00</td>\n",
       "      <td>2018-03-01 17:00:00</td>\n",
       "    </tr>\n",
       "    <tr>\n",
       "      <th>3</th>\n",
       "      <td>50d11a586d</td>\n",
       "      <td>50d11a586d</td>\n",
       "      <td>1</td>\n",
       "      <td>2018-03-01 10:00:00</td>\n",
       "      <td>2018-03-01 16:00:00</td>\n",
       "      <td>2018-03-01 19:00:00</td>\n",
       "    </tr>\n",
       "    <tr>\n",
       "      <th>4</th>\n",
       "      <td>a3bfe38bf4</td>\n",
       "      <td>a3bfe38bf4</td>\n",
       "      <td>1</td>\n",
       "      <td>2018-03-01 11:00:00</td>\n",
       "      <td>2018-03-01 16:00:00</td>\n",
       "      <td>2018-03-01 17:00:00</td>\n",
       "    </tr>\n",
       "  </tbody>\n",
       "</table>\n",
       "</div>"
      ],
      "text/plain": [
       "   package_ID    order_ID  type        ship_out_time     arr_station_time  \\\n",
       "0  dc3d6d2258  dc3d6d2258     1  2018-03-01 08:00:00  2018-03-01 15:00:00   \n",
       "1  19802a570c  19802a570c     1  2018-03-01 10:00:00  2018-03-01 15:00:00   \n",
       "2  e22627af66  e22627af66     1  2018-03-01 11:00:00  2018-03-01 15:00:00   \n",
       "3  50d11a586d  50d11a586d     1  2018-03-01 10:00:00  2018-03-01 16:00:00   \n",
       "4  a3bfe38bf4  a3bfe38bf4     1  2018-03-01 11:00:00  2018-03-01 16:00:00   \n",
       "\n",
       "              arr_time  \n",
       "0  2018-03-01 18:00:00  \n",
       "1  2018-03-01 17:00:00  \n",
       "2  2018-03-01 17:00:00  \n",
       "3  2018-03-01 19:00:00  \n",
       "4  2018-03-01 17:00:00  "
      ]
     },
     "execution_count": 7,
     "metadata": {},
     "output_type": "execute_result"
    }
   ],
   "source": [
    "delivery.head()"
   ]
  },
  {
   "cell_type": "code",
   "execution_count": 8,
   "metadata": {
    "ExecuteTime": {
     "end_time": "2020-10-04T14:51:37.277359Z",
     "start_time": "2020-10-04T14:51:37.261705Z"
    }
   },
   "outputs": [
    {
     "data": {
      "text/plain": [
       "(293229, 6)"
      ]
     },
     "execution_count": 8,
     "metadata": {},
     "output_type": "execute_result"
    }
   ],
   "source": [
    "delivery.shape"
   ]
  },
  {
   "cell_type": "markdown",
   "metadata": {},
   "source": [
    "| Field            | Data type | Description                          |\n",
    "|:------------------|:-----------|:--------------------------------------|\n",
    "| package_ID       | string    | uniqueID                             |\n",
    "| order_ID         | string    | orderID                              |\n",
    "| type             | int       | 1P or 3P                             |\n",
    "| ship_out_time    | string    | yyyy-mm-dd HH:MM:SS                  |\n",
    "| arr_station_time | string    | arrival dc_des yyyy-mm-dd HH:MM:SS   |\n",
    "| arr_time         | string    | arrival customer yyyy-mm-dd HH:MM:SS |"
   ]
  },
  {
   "cell_type": "markdown",
   "metadata": {},
   "source": [
    "- package_ID = order_ID if the package contains all SKUs in the order\n",
    "- order_ID and possibly multiple shipping packages (therefore different packageIDs) in the event that an order is split into multiple delivery packages if an order involves in-stock and on-order items.\n",
    "- 293,229 packages delivered by JD Logistics\n",
    "- 244,333 orders involve 1P SKUs\n",
    "- 48,896 orders involve 3P SKUs"
   ]
  },
  {
   "cell_type": "markdown",
   "metadata": {},
   "source": [
    "### ___inventory___ table"
   ]
  },
  {
   "cell_type": "code",
   "execution_count": 9,
   "metadata": {
    "ExecuteTime": {
     "end_time": "2020-10-04T14:51:37.292982Z",
     "start_time": "2020-10-04T14:51:37.277359Z"
    }
   },
   "outputs": [
    {
     "data": {
      "text/html": [
       "<div>\n",
       "<style scoped>\n",
       "    .dataframe tbody tr th:only-of-type {\n",
       "        vertical-align: middle;\n",
       "    }\n",
       "\n",
       "    .dataframe tbody tr th {\n",
       "        vertical-align: top;\n",
       "    }\n",
       "\n",
       "    .dataframe thead th {\n",
       "        text-align: right;\n",
       "    }\n",
       "</style>\n",
       "<table border=\"1\" class=\"dataframe\">\n",
       "  <thead>\n",
       "    <tr style=\"text-align: right;\">\n",
       "      <th></th>\n",
       "      <th>dc_ID</th>\n",
       "      <th>sku_ID</th>\n",
       "      <th>date</th>\n",
       "    </tr>\n",
       "  </thead>\n",
       "  <tbody>\n",
       "    <tr>\n",
       "      <th>0</th>\n",
       "      <td>9</td>\n",
       "      <td>50f6f91962</td>\n",
       "      <td>2018-03-01</td>\n",
       "    </tr>\n",
       "    <tr>\n",
       "      <th>1</th>\n",
       "      <td>9</td>\n",
       "      <td>7f0ddbcdde</td>\n",
       "      <td>2018-03-01</td>\n",
       "    </tr>\n",
       "    <tr>\n",
       "      <th>2</th>\n",
       "      <td>9</td>\n",
       "      <td>8ad5789d74</td>\n",
       "      <td>2018-03-01</td>\n",
       "    </tr>\n",
       "    <tr>\n",
       "      <th>3</th>\n",
       "      <td>9</td>\n",
       "      <td>468d34eda4</td>\n",
       "      <td>2018-03-01</td>\n",
       "    </tr>\n",
       "    <tr>\n",
       "      <th>4</th>\n",
       "      <td>9</td>\n",
       "      <td>460afaddb6</td>\n",
       "      <td>2018-03-01</td>\n",
       "    </tr>\n",
       "  </tbody>\n",
       "</table>\n",
       "</div>"
      ],
      "text/plain": [
       "   dc_ID      sku_ID        date\n",
       "0      9  50f6f91962  2018-03-01\n",
       "1      9  7f0ddbcdde  2018-03-01\n",
       "2      9  8ad5789d74  2018-03-01\n",
       "3      9  468d34eda4  2018-03-01\n",
       "4      9  460afaddb6  2018-03-01"
      ]
     },
     "execution_count": 9,
     "metadata": {},
     "output_type": "execute_result"
    }
   ],
   "source": [
    "inventory.head()"
   ]
  },
  {
   "cell_type": "markdown",
   "metadata": {},
   "source": [
    "- availability of each SKU at each warehouse. \n",
    "- inventory at the end of the day "
   ]
  },
  {
   "cell_type": "markdown",
   "metadata": {},
   "source": [
    "### ___network___ table"
   ]
  },
  {
   "cell_type": "code",
   "execution_count": 10,
   "metadata": {
    "ExecuteTime": {
     "end_time": "2020-10-04T14:51:37.308614Z",
     "start_time": "2020-10-04T14:51:37.292982Z"
    },
    "scrolled": true
   },
   "outputs": [
    {
     "data": {
      "text/html": [
       "<div>\n",
       "<style scoped>\n",
       "    .dataframe tbody tr th:only-of-type {\n",
       "        vertical-align: middle;\n",
       "    }\n",
       "\n",
       "    .dataframe tbody tr th {\n",
       "        vertical-align: top;\n",
       "    }\n",
       "\n",
       "    .dataframe thead th {\n",
       "        text-align: right;\n",
       "    }\n",
       "</style>\n",
       "<table border=\"1\" class=\"dataframe\">\n",
       "  <thead>\n",
       "    <tr style=\"text-align: right;\">\n",
       "      <th></th>\n",
       "      <th>region_ID</th>\n",
       "      <th>dc_ID</th>\n",
       "    </tr>\n",
       "  </thead>\n",
       "  <tbody>\n",
       "    <tr>\n",
       "      <th>0</th>\n",
       "      <td>2</td>\n",
       "      <td>57</td>\n",
       "    </tr>\n",
       "    <tr>\n",
       "      <th>1</th>\n",
       "      <td>2</td>\n",
       "      <td>43</td>\n",
       "    </tr>\n",
       "    <tr>\n",
       "      <th>2</th>\n",
       "      <td>2</td>\n",
       "      <td>42</td>\n",
       "    </tr>\n",
       "    <tr>\n",
       "      <th>3</th>\n",
       "      <td>2</td>\n",
       "      <td>66</td>\n",
       "    </tr>\n",
       "    <tr>\n",
       "      <th>4</th>\n",
       "      <td>2</td>\n",
       "      <td>20</td>\n",
       "    </tr>\n",
       "  </tbody>\n",
       "</table>\n",
       "</div>"
      ],
      "text/plain": [
       "   region_ID  dc_ID\n",
       "0          2     57\n",
       "1          2     43\n",
       "2          2     42\n",
       "3          2     66\n",
       "4          2     20"
      ]
     },
     "execution_count": 10,
     "metadata": {},
     "output_type": "execute_result"
    }
   ],
   "source": [
    "network.head()"
   ]
  },
  {
   "cell_type": "markdown",
   "metadata": {},
   "source": [
    "- different warehouses located in different districts (dc_ID) to different geographical regions (region_ID). \n",
    "- one of the 17 warehouses will be designated as the “central warehouse” for that region. “back-up fulfillment” option when other (typically smaller) warehouses in the region run out of inventory for their corresponding districts. \n",
    "- central warehouse dc_ID = region_ID. "
   ]
  },
  {
   "attachments": {
    "image.png": {
     "image/png": "[encoded data removed]"
    }
   },
   "cell_type": "markdown",
   "metadata": {},
   "source": [
    "![image.png](attachment:image.png)"
   ]
  },
  {
   "cell_type": "markdown",
   "metadata": {},
   "source": [
    "# An Illustrating Example of Full Customer Experience Cycle"
   ]
  },
  {
   "cell_type": "markdown",
   "metadata": {},
   "source": [
    "We first randomly select a customer order with order_ID ‘___81a6fa818d___’ from the order table. The data below shows the information in ___orders___ table corresponding to the order."
   ]
  },
  {
   "cell_type": "code",
   "execution_count": 11,
   "metadata": {
    "ExecuteTime": {
     "end_time": "2020-10-04T14:51:37.371068Z",
     "start_time": "2020-10-04T14:51:37.308614Z"
    },
    "scrolled": true
   },
   "outputs": [
    {
     "data": {
      "text/html": [
       "<div>\n",
       "<style scoped>\n",
       "    .dataframe tbody tr th:only-of-type {\n",
       "        vertical-align: middle;\n",
       "    }\n",
       "\n",
       "    .dataframe tbody tr th {\n",
       "        vertical-align: top;\n",
       "    }\n",
       "\n",
       "    .dataframe thead th {\n",
       "        text-align: right;\n",
       "    }\n",
       "</style>\n",
       "<table border=\"1\" class=\"dataframe\">\n",
       "  <thead>\n",
       "    <tr style=\"text-align: right;\">\n",
       "      <th></th>\n",
       "      <th>47253</th>\n",
       "      <th>47254</th>\n",
       "    </tr>\n",
       "  </thead>\n",
       "  <tbody>\n",
       "    <tr>\n",
       "      <th>order_ID</th>\n",
       "      <td>81a6fa818d</td>\n",
       "      <td>81a6fa818d</td>\n",
       "    </tr>\n",
       "    <tr>\n",
       "      <th>user_ID</th>\n",
       "      <td>2c511cbd9e</td>\n",
       "      <td>2c511cbd9e</td>\n",
       "    </tr>\n",
       "    <tr>\n",
       "      <th>sku_ID</th>\n",
       "      <td>ac61f4e10e</td>\n",
       "      <td>eb3f2d2fd8</td>\n",
       "    </tr>\n",
       "    <tr>\n",
       "      <th>order_date</th>\n",
       "      <td>2018-03-02</td>\n",
       "      <td>2018-03-02</td>\n",
       "    </tr>\n",
       "    <tr>\n",
       "      <th>order_time</th>\n",
       "      <td>2018-03-02 00:04:44.0</td>\n",
       "      <td>2018-03-02 00:04:44.0</td>\n",
       "    </tr>\n",
       "    <tr>\n",
       "      <th>quantity</th>\n",
       "      <td>1</td>\n",
       "      <td>1</td>\n",
       "    </tr>\n",
       "    <tr>\n",
       "      <th>type</th>\n",
       "      <td>1</td>\n",
       "      <td>1</td>\n",
       "    </tr>\n",
       "    <tr>\n",
       "      <th>promise</th>\n",
       "      <td>1</td>\n",
       "      <td>1</td>\n",
       "    </tr>\n",
       "    <tr>\n",
       "      <th>original_unit_price</th>\n",
       "      <td>139.9</td>\n",
       "      <td>139.9</td>\n",
       "    </tr>\n",
       "    <tr>\n",
       "      <th>final_unit_price</th>\n",
       "      <td>82.9</td>\n",
       "      <td>82.9</td>\n",
       "    </tr>\n",
       "    <tr>\n",
       "      <th>direct_discount_per_unit</th>\n",
       "      <td>7</td>\n",
       "      <td>7</td>\n",
       "    </tr>\n",
       "    <tr>\n",
       "      <th>quantity_discount_per_unit</th>\n",
       "      <td>50</td>\n",
       "      <td>50</td>\n",
       "    </tr>\n",
       "    <tr>\n",
       "      <th>bundle_discount_per_unit</th>\n",
       "      <td>0</td>\n",
       "      <td>0</td>\n",
       "    </tr>\n",
       "    <tr>\n",
       "      <th>coupon_discount_per_unit</th>\n",
       "      <td>0</td>\n",
       "      <td>0</td>\n",
       "    </tr>\n",
       "    <tr>\n",
       "      <th>gift_item</th>\n",
       "      <td>0</td>\n",
       "      <td>0</td>\n",
       "    </tr>\n",
       "    <tr>\n",
       "      <th>dc_ori</th>\n",
       "      <td>9</td>\n",
       "      <td>9</td>\n",
       "    </tr>\n",
       "    <tr>\n",
       "      <th>dc_des</th>\n",
       "      <td>27</td>\n",
       "      <td>27</td>\n",
       "    </tr>\n",
       "  </tbody>\n",
       "</table>\n",
       "</div>"
      ],
      "text/plain": [
       "                                            47253                  47254\n",
       "order_ID                               81a6fa818d             81a6fa818d\n",
       "user_ID                                2c511cbd9e             2c511cbd9e\n",
       "sku_ID                                 ac61f4e10e             eb3f2d2fd8\n",
       "order_date                             2018-03-02             2018-03-02\n",
       "order_time                  2018-03-02 00:04:44.0  2018-03-02 00:04:44.0\n",
       "quantity                                        1                      1\n",
       "type                                            1                      1\n",
       "promise                                         1                      1\n",
       "original_unit_price                         139.9                  139.9\n",
       "final_unit_price                             82.9                   82.9\n",
       "direct_discount_per_unit                        7                      7\n",
       "quantity_discount_per_unit                     50                     50\n",
       "bundle_discount_per_unit                        0                      0\n",
       "coupon_discount_per_unit                        0                      0\n",
       "gift_item                                       0                      0\n",
       "dc_ori                                          9                      9\n",
       "dc_des                                         27                     27"
      ]
     },
     "execution_count": 11,
     "metadata": {},
     "output_type": "execute_result"
    }
   ],
   "source": [
    "orders[orders['order_ID']=='81a6fa818d'].T"
   ]
  },
  {
   "cell_type": "markdown",
   "metadata": {},
   "source": [
    "- From the order table, we find that this order is placed by customer ‘2c511cbd9e’ on ‘2018-03-02’ and contains two SKUs with sku_ID ‘ac61f4e10e’ and 'eb3f2d2fd8'.\n",
    "- Also, we find that the customer took discount from a quantity discount of a total value RMB 100 _[calculated as 100 = 50 (unit discount for sku 'ac61f4e10e') * 1 (quantity for sku 'ac61f4e10e') + 50 (unit discount for sku 'eb3f2d2fd8') * 1 (quantity for sku 'eb3f2d2fd8')]_, a direct discount of a total value RMB 14 and no other discounts.\n",
    "- The order is shipped from warehouse in district 9 to destination district 27."
   ]
  },
  {
   "cell_type": "markdown",
   "metadata": {},
   "source": [
    "Taking a deeper look at the customer with user_ID '2c511cbd9e' from ___users___ table."
   ]
  },
  {
   "cell_type": "code",
   "execution_count": 12,
   "metadata": {
    "ExecuteTime": {
     "end_time": "2020-10-04T14:51:37.492440Z",
     "start_time": "2020-10-04T14:51:37.372408Z"
    }
   },
   "outputs": [
    {
     "data": {
      "text/html": [
       "<div>\n",
       "<style scoped>\n",
       "    .dataframe tbody tr th:only-of-type {\n",
       "        vertical-align: middle;\n",
       "    }\n",
       "\n",
       "    .dataframe tbody tr th {\n",
       "        vertical-align: top;\n",
       "    }\n",
       "\n",
       "    .dataframe thead th {\n",
       "        text-align: right;\n",
       "    }\n",
       "</style>\n",
       "<table border=\"1\" class=\"dataframe\">\n",
       "  <thead>\n",
       "    <tr style=\"text-align: right;\">\n",
       "      <th></th>\n",
       "      <th>user_ID</th>\n",
       "      <th>user_level</th>\n",
       "      <th>first_order_month</th>\n",
       "      <th>plus</th>\n",
       "      <th>gender</th>\n",
       "      <th>age</th>\n",
       "      <th>marital_status</th>\n",
       "      <th>education</th>\n",
       "      <th>city_level</th>\n",
       "      <th>purchase_power</th>\n",
       "    </tr>\n",
       "  </thead>\n",
       "  <tbody>\n",
       "    <tr>\n",
       "      <th>79944</th>\n",
       "      <td>2c511cbd9e</td>\n",
       "      <td>3</td>\n",
       "      <td>2015-06</td>\n",
       "      <td>0</td>\n",
       "      <td>F</td>\n",
       "      <td>26-35</td>\n",
       "      <td>M</td>\n",
       "      <td>3</td>\n",
       "      <td>1</td>\n",
       "      <td>2</td>\n",
       "    </tr>\n",
       "  </tbody>\n",
       "</table>\n",
       "</div>"
      ],
      "text/plain": [
       "          user_ID  user_level first_order_month  plus gender    age  \\\n",
       "79944  2c511cbd9e           3           2015-06     0      F  26-35   \n",
       "\n",
       "      marital_status  education  city_level  purchase_power  \n",
       "79944              M          3           1               2  "
      ]
     },
     "execution_count": 12,
     "metadata": {},
     "output_type": "execute_result"
    }
   ],
   "source": [
    "users[users['user_ID']=='2c511cbd9e']"
   ]
  },
  {
   "cell_type": "markdown",
   "metadata": {},
   "source": [
    "- By looking up the customer ‘2c511cbd9e’ in the ___users___ table, we find that this is a level 3 user with no PLUS membership who has been with JD.com since 2015-06.\n",
    "- The customer's most common shipping address is in a tier 1 city.\n",
    "- The customer is estimated to be a married (marital_status = 'M') female customer (gender = 'F') in her 26-35th (age = '26-35') with a Bachelor degree (education = 3) and relatively high purchase power (purchase_power = 2)."
   ]
  },
  {
   "cell_type": "markdown",
   "metadata": {},
   "source": [
    "Now checking the information available in the ___skus___ table for the related SKUs."
   ]
  },
  {
   "cell_type": "code",
   "execution_count": 13,
   "metadata": {
    "ExecuteTime": {
     "end_time": "2020-10-04T14:51:37.523686Z",
     "start_time": "2020-10-04T14:51:37.492440Z"
    }
   },
   "outputs": [
    {
     "data": {
      "text/html": [
       "<div>\n",
       "<style scoped>\n",
       "    .dataframe tbody tr th:only-of-type {\n",
       "        vertical-align: middle;\n",
       "    }\n",
       "\n",
       "    .dataframe tbody tr th {\n",
       "        vertical-align: top;\n",
       "    }\n",
       "\n",
       "    .dataframe thead th {\n",
       "        text-align: right;\n",
       "    }\n",
       "</style>\n",
       "<table border=\"1\" class=\"dataframe\">\n",
       "  <thead>\n",
       "    <tr style=\"text-align: right;\">\n",
       "      <th></th>\n",
       "      <th>sku_ID</th>\n",
       "      <th>type</th>\n",
       "      <th>brand_ID</th>\n",
       "      <th>attribute1</th>\n",
       "      <th>attribute2</th>\n",
       "      <th>activate_date</th>\n",
       "      <th>deactivate_date</th>\n",
       "    </tr>\n",
       "  </thead>\n",
       "  <tbody>\n",
       "    <tr>\n",
       "      <th>1986</th>\n",
       "      <td>eb3f2d2fd8</td>\n",
       "      <td>1</td>\n",
       "      <td>9b0d3a5fc6</td>\n",
       "      <td>-</td>\n",
       "      <td>-</td>\n",
       "      <td>NaN</td>\n",
       "      <td>NaN</td>\n",
       "    </tr>\n",
       "    <tr>\n",
       "      <th>2813</th>\n",
       "      <td>ac61f4e10e</td>\n",
       "      <td>1</td>\n",
       "      <td>9b0d3a5fc6</td>\n",
       "      <td>3.0</td>\n",
       "      <td>80.0</td>\n",
       "      <td>NaN</td>\n",
       "      <td>NaN</td>\n",
       "    </tr>\n",
       "  </tbody>\n",
       "</table>\n",
       "</div>"
      ],
      "text/plain": [
       "          sku_ID  type    brand_ID attribute1 attribute2 activate_date  \\\n",
       "1986  eb3f2d2fd8     1  9b0d3a5fc6          -          -           NaN   \n",
       "2813  ac61f4e10e     1  9b0d3a5fc6        3.0       80.0           NaN   \n",
       "\n",
       "     deactivate_date  \n",
       "1986             NaN  \n",
       "2813             NaN  "
      ]
     },
     "execution_count": 13,
     "metadata": {},
     "output_type": "execute_result"
    }
   ],
   "source": [
    "skus[skus['sku_ID'].isin(['ac61f4e10e','eb3f2d2fd8'])]"
   ]
  },
  {
   "cell_type": "markdown",
   "metadata": {},
   "source": [
    "- By looking up the two SKUs bought in the ___skus___ table, we find that both of them are 1P skus and of the same brand. However, one item is missing the two provided attributes.\n",
    "- Both SKUs do not have activate_date and deactivate_date listed, meaning both SKUs are available for purchase during the whole month."
   ]
  },
  {
   "cell_type": "markdown",
   "metadata": {},
   "source": [
    "___clicks___ table can also provide further information on how this purchase happened."
   ]
  },
  {
   "cell_type": "code",
   "execution_count": 14,
   "metadata": {
    "ExecuteTime": {
     "end_time": "2020-10-04T14:51:39.558280Z",
     "start_time": "2020-10-04T14:51:37.523686Z"
    },
    "scrolled": true
   },
   "outputs": [
    {
     "data": {
      "text/html": [
       "<div>\n",
       "<style scoped>\n",
       "    .dataframe tbody tr th:only-of-type {\n",
       "        vertical-align: middle;\n",
       "    }\n",
       "\n",
       "    .dataframe tbody tr th {\n",
       "        vertical-align: top;\n",
       "    }\n",
       "\n",
       "    .dataframe thead th {\n",
       "        text-align: right;\n",
       "    }\n",
       "</style>\n",
       "<table border=\"1\" class=\"dataframe\">\n",
       "  <thead>\n",
       "    <tr style=\"text-align: right;\">\n",
       "      <th></th>\n",
       "      <th>sku_ID</th>\n",
       "      <th>user_ID</th>\n",
       "      <th>request_time</th>\n",
       "      <th>channel</th>\n",
       "    </tr>\n",
       "  </thead>\n",
       "  <tbody>\n",
       "    <tr>\n",
       "      <th>744242</th>\n",
       "      <td>81e57cbc50</td>\n",
       "      <td>2c511cbd9e</td>\n",
       "      <td>2018-03-01 23:17:21</td>\n",
       "      <td>app</td>\n",
       "    </tr>\n",
       "    <tr>\n",
       "      <th>740110</th>\n",
       "      <td>eb3f2d2fd8</td>\n",
       "      <td>2c511cbd9e</td>\n",
       "      <td>2018-03-01 23:37:23</td>\n",
       "      <td>app</td>\n",
       "    </tr>\n",
       "    <tr>\n",
       "      <th>740111</th>\n",
       "      <td>eb3f2d2fd8</td>\n",
       "      <td>2c511cbd9e</td>\n",
       "      <td>2018-03-01 23:37:50</td>\n",
       "      <td>app</td>\n",
       "    </tr>\n",
       "    <tr>\n",
       "      <th>470526</th>\n",
       "      <td>3c79df1d80</td>\n",
       "      <td>2c511cbd9e</td>\n",
       "      <td>2018-03-01 23:37:52</td>\n",
       "      <td>app</td>\n",
       "    </tr>\n",
       "    <tr>\n",
       "      <th>470527</th>\n",
       "      <td>3c79df1d80</td>\n",
       "      <td>2c511cbd9e</td>\n",
       "      <td>2018-03-01 23:38:06</td>\n",
       "      <td>app</td>\n",
       "    </tr>\n",
       "    <tr>\n",
       "      <th>470529</th>\n",
       "      <td>3c79df1d80</td>\n",
       "      <td>2c511cbd9e</td>\n",
       "      <td>2018-03-01 23:38:21</td>\n",
       "      <td>app</td>\n",
       "    </tr>\n",
       "    <tr>\n",
       "      <th>613599</th>\n",
       "      <td>1a2362c248</td>\n",
       "      <td>2c511cbd9e</td>\n",
       "      <td>2018-03-01 23:38:36</td>\n",
       "      <td>app</td>\n",
       "    </tr>\n",
       "    <tr>\n",
       "      <th>119316</th>\n",
       "      <td>ac61f4e10e</td>\n",
       "      <td>2c511cbd9e</td>\n",
       "      <td>2018-03-01 23:38:43</td>\n",
       "      <td>app</td>\n",
       "    </tr>\n",
       "    <tr>\n",
       "      <th>740108</th>\n",
       "      <td>eb3f2d2fd8</td>\n",
       "      <td>2c511cbd9e</td>\n",
       "      <td>2018-03-01 23:38:51</td>\n",
       "      <td>app</td>\n",
       "    </tr>\n",
       "    <tr>\n",
       "      <th>119318</th>\n",
       "      <td>ac61f4e10e</td>\n",
       "      <td>2c511cbd9e</td>\n",
       "      <td>2018-03-01 23:39:17</td>\n",
       "      <td>app</td>\n",
       "    </tr>\n",
       "    <tr>\n",
       "      <th>119313</th>\n",
       "      <td>ac61f4e10e</td>\n",
       "      <td>2c511cbd9e</td>\n",
       "      <td>2018-03-01 23:39:44</td>\n",
       "      <td>app</td>\n",
       "    </tr>\n",
       "    <tr>\n",
       "      <th>357867</th>\n",
       "      <td>d829f03a28</td>\n",
       "      <td>2c511cbd9e</td>\n",
       "      <td>2018-03-01 23:39:51</td>\n",
       "      <td>app</td>\n",
       "    </tr>\n",
       "    <tr>\n",
       "      <th>455350</th>\n",
       "      <td>a1b0f57464</td>\n",
       "      <td>2c511cbd9e</td>\n",
       "      <td>2018-03-01 23:39:53</td>\n",
       "      <td>app</td>\n",
       "    </tr>\n",
       "    <tr>\n",
       "      <th>357865</th>\n",
       "      <td>d829f03a28</td>\n",
       "      <td>2c511cbd9e</td>\n",
       "      <td>2018-03-01 23:40:00</td>\n",
       "      <td>app</td>\n",
       "    </tr>\n",
       "    <tr>\n",
       "      <th>455349</th>\n",
       "      <td>a1b0f57464</td>\n",
       "      <td>2c511cbd9e</td>\n",
       "      <td>2018-03-01 23:40:04</td>\n",
       "      <td>app</td>\n",
       "    </tr>\n",
       "    <tr>\n",
       "      <th>470530</th>\n",
       "      <td>3c79df1d80</td>\n",
       "      <td>2c511cbd9e</td>\n",
       "      <td>2018-03-01 23:40:46</td>\n",
       "      <td>app</td>\n",
       "    </tr>\n",
       "    <tr>\n",
       "      <th>455352</th>\n",
       "      <td>a1b0f57464</td>\n",
       "      <td>2c511cbd9e</td>\n",
       "      <td>2018-03-01 23:40:54</td>\n",
       "      <td>app</td>\n",
       "    </tr>\n",
       "    <tr>\n",
       "      <th>455351</th>\n",
       "      <td>a1b0f57464</td>\n",
       "      <td>2c511cbd9e</td>\n",
       "      <td>2018-03-01 23:42:17</td>\n",
       "      <td>app</td>\n",
       "    </tr>\n",
       "    <tr>\n",
       "      <th>119317</th>\n",
       "      <td>ac61f4e10e</td>\n",
       "      <td>2c511cbd9e</td>\n",
       "      <td>2018-03-01 23:42:48</td>\n",
       "      <td>app</td>\n",
       "    </tr>\n",
       "    <tr>\n",
       "      <th>119314</th>\n",
       "      <td>ac61f4e10e</td>\n",
       "      <td>2c511cbd9e</td>\n",
       "      <td>2018-03-01 23:42:58</td>\n",
       "      <td>app</td>\n",
       "    </tr>\n",
       "    <tr>\n",
       "      <th>455348</th>\n",
       "      <td>a1b0f57464</td>\n",
       "      <td>2c511cbd9e</td>\n",
       "      <td>2018-03-01 23:43:00</td>\n",
       "      <td>app</td>\n",
       "    </tr>\n",
       "    <tr>\n",
       "      <th>470531</th>\n",
       "      <td>3c79df1d80</td>\n",
       "      <td>2c511cbd9e</td>\n",
       "      <td>2018-03-01 23:43:07</td>\n",
       "      <td>app</td>\n",
       "    </tr>\n",
       "    <tr>\n",
       "      <th>119312</th>\n",
       "      <td>ac61f4e10e</td>\n",
       "      <td>2c511cbd9e</td>\n",
       "      <td>2018-03-01 23:43:34</td>\n",
       "      <td>app</td>\n",
       "    </tr>\n",
       "    <tr>\n",
       "      <th>740112</th>\n",
       "      <td>eb3f2d2fd8</td>\n",
       "      <td>2c511cbd9e</td>\n",
       "      <td>2018-03-01 23:43:53</td>\n",
       "      <td>app</td>\n",
       "    </tr>\n",
       "    <tr>\n",
       "      <th>740109</th>\n",
       "      <td>eb3f2d2fd8</td>\n",
       "      <td>2c511cbd9e</td>\n",
       "      <td>2018-03-01 23:44:28</td>\n",
       "      <td>app</td>\n",
       "    </tr>\n",
       "    <tr>\n",
       "      <th>744243</th>\n",
       "      <td>81e57cbc50</td>\n",
       "      <td>2c511cbd9e</td>\n",
       "      <td>2018-03-01 23:44:32</td>\n",
       "      <td>app</td>\n",
       "    </tr>\n",
       "    <tr>\n",
       "      <th>154292</th>\n",
       "      <td>fbce41fd82</td>\n",
       "      <td>2c511cbd9e</td>\n",
       "      <td>2018-03-01 23:44:38</td>\n",
       "      <td>app</td>\n",
       "    </tr>\n",
       "    <tr>\n",
       "      <th>305459</th>\n",
       "      <td>068f4481b3</td>\n",
       "      <td>2c511cbd9e</td>\n",
       "      <td>2018-03-01 23:44:46</td>\n",
       "      <td>app</td>\n",
       "    </tr>\n",
       "    <tr>\n",
       "      <th>144664</th>\n",
       "      <td>0d3ae2b3bf</td>\n",
       "      <td>2c511cbd9e</td>\n",
       "      <td>2018-03-01 23:45:06</td>\n",
       "      <td>app</td>\n",
       "    </tr>\n",
       "    <tr>\n",
       "      <th>236290</th>\n",
       "      <td>b9f08a2a2a</td>\n",
       "      <td>2c511cbd9e</td>\n",
       "      <td>2018-03-01 23:45:10</td>\n",
       "      <td>app</td>\n",
       "    </tr>\n",
       "    <tr>\n",
       "      <th>377384</th>\n",
       "      <td>d7d6bd5e1a</td>\n",
       "      <td>2c511cbd9e</td>\n",
       "      <td>2018-03-01 23:45:14</td>\n",
       "      <td>app</td>\n",
       "    </tr>\n",
       "    <tr>\n",
       "      <th>930760</th>\n",
       "      <td>5564787f40</td>\n",
       "      <td>2c511cbd9e</td>\n",
       "      <td>2018-03-01 23:45:25</td>\n",
       "      <td>app</td>\n",
       "    </tr>\n",
       "    <tr>\n",
       "      <th>154291</th>\n",
       "      <td>fbce41fd82</td>\n",
       "      <td>2c511cbd9e</td>\n",
       "      <td>2018-03-01 23:45:35</td>\n",
       "      <td>app</td>\n",
       "    </tr>\n",
       "    <tr>\n",
       "      <th>180437</th>\n",
       "      <td>38d636d2a6</td>\n",
       "      <td>2c511cbd9e</td>\n",
       "      <td>2018-03-01 23:45:39</td>\n",
       "      <td>app</td>\n",
       "    </tr>\n",
       "    <tr>\n",
       "      <th>305454</th>\n",
       "      <td>068f4481b3</td>\n",
       "      <td>2c511cbd9e</td>\n",
       "      <td>2018-03-01 23:45:48</td>\n",
       "      <td>app</td>\n",
       "    </tr>\n",
       "    <tr>\n",
       "      <th>884761</th>\n",
       "      <td>ff6f356b13</td>\n",
       "      <td>2c511cbd9e</td>\n",
       "      <td>2018-03-01 23:45:53</td>\n",
       "      <td>app</td>\n",
       "    </tr>\n",
       "    <tr>\n",
       "      <th>708769</th>\n",
       "      <td>d47c6ca631</td>\n",
       "      <td>2c511cbd9e</td>\n",
       "      <td>2018-03-01 23:46:05</td>\n",
       "      <td>app</td>\n",
       "    </tr>\n",
       "    <tr>\n",
       "      <th>525023</th>\n",
       "      <td>7f947c0055</td>\n",
       "      <td>2c511cbd9e</td>\n",
       "      <td>2018-03-01 23:46:55</td>\n",
       "      <td>app</td>\n",
       "    </tr>\n",
       "    <tr>\n",
       "      <th>424406</th>\n",
       "      <td>17b0296517</td>\n",
       "      <td>2c511cbd9e</td>\n",
       "      <td>2018-03-01 23:47:34</td>\n",
       "      <td>app</td>\n",
       "    </tr>\n",
       "    <tr>\n",
       "      <th>808099</th>\n",
       "      <td>329698c367</td>\n",
       "      <td>2c511cbd9e</td>\n",
       "      <td>2018-03-01 23:58:54</td>\n",
       "      <td>app</td>\n",
       "    </tr>\n",
       "  </tbody>\n",
       "</table>\n",
       "</div>"
      ],
      "text/plain": [
       "            sku_ID     user_ID         request_time channel\n",
       "744242  81e57cbc50  2c511cbd9e  2018-03-01 23:17:21     app\n",
       "740110  eb3f2d2fd8  2c511cbd9e  2018-03-01 23:37:23     app\n",
       "740111  eb3f2d2fd8  2c511cbd9e  2018-03-01 23:37:50     app\n",
       "470526  3c79df1d80  2c511cbd9e  2018-03-01 23:37:52     app\n",
       "470527  3c79df1d80  2c511cbd9e  2018-03-01 23:38:06     app\n",
       "470529  3c79df1d80  2c511cbd9e  2018-03-01 23:38:21     app\n",
       "613599  1a2362c248  2c511cbd9e  2018-03-01 23:38:36     app\n",
       "119316  ac61f4e10e  2c511cbd9e  2018-03-01 23:38:43     app\n",
       "740108  eb3f2d2fd8  2c511cbd9e  2018-03-01 23:38:51     app\n",
       "119318  ac61f4e10e  2c511cbd9e  2018-03-01 23:39:17     app\n",
       "119313  ac61f4e10e  2c511cbd9e  2018-03-01 23:39:44     app\n",
       "357867  d829f03a28  2c511cbd9e  2018-03-01 23:39:51     app\n",
       "455350  a1b0f57464  2c511cbd9e  2018-03-01 23:39:53     app\n",
       "357865  d829f03a28  2c511cbd9e  2018-03-01 23:40:00     app\n",
       "455349  a1b0f57464  2c511cbd9e  2018-03-01 23:40:04     app\n",
       "470530  3c79df1d80  2c511cbd9e  2018-03-01 23:40:46     app\n",
       "455352  a1b0f57464  2c511cbd9e  2018-03-01 23:40:54     app\n",
       "455351  a1b0f57464  2c511cbd9e  2018-03-01 23:42:17     app\n",
       "119317  ac61f4e10e  2c511cbd9e  2018-03-01 23:42:48     app\n",
       "119314  ac61f4e10e  2c511cbd9e  2018-03-01 23:42:58     app\n",
       "455348  a1b0f57464  2c511cbd9e  2018-03-01 23:43:00     app\n",
       "470531  3c79df1d80  2c511cbd9e  2018-03-01 23:43:07     app\n",
       "119312  ac61f4e10e  2c511cbd9e  2018-03-01 23:43:34     app\n",
       "740112  eb3f2d2fd8  2c511cbd9e  2018-03-01 23:43:53     app\n",
       "740109  eb3f2d2fd8  2c511cbd9e  2018-03-01 23:44:28     app\n",
       "744243  81e57cbc50  2c511cbd9e  2018-03-01 23:44:32     app\n",
       "154292  fbce41fd82  2c511cbd9e  2018-03-01 23:44:38     app\n",
       "305459  068f4481b3  2c511cbd9e  2018-03-01 23:44:46     app\n",
       "144664  0d3ae2b3bf  2c511cbd9e  2018-03-01 23:45:06     app\n",
       "236290  b9f08a2a2a  2c511cbd9e  2018-03-01 23:45:10     app\n",
       "377384  d7d6bd5e1a  2c511cbd9e  2018-03-01 23:45:14     app\n",
       "930760  5564787f40  2c511cbd9e  2018-03-01 23:45:25     app\n",
       "154291  fbce41fd82  2c511cbd9e  2018-03-01 23:45:35     app\n",
       "180437  38d636d2a6  2c511cbd9e  2018-03-01 23:45:39     app\n",
       "305454  068f4481b3  2c511cbd9e  2018-03-01 23:45:48     app\n",
       "884761  ff6f356b13  2c511cbd9e  2018-03-01 23:45:53     app\n",
       "708769  d47c6ca631  2c511cbd9e  2018-03-01 23:46:05     app\n",
       "525023  7f947c0055  2c511cbd9e  2018-03-01 23:46:55     app\n",
       "424406  17b0296517  2c511cbd9e  2018-03-01 23:47:34     app\n",
       "808099  329698c367  2c511cbd9e  2018-03-01 23:58:54     app"
      ]
     },
     "execution_count": 14,
     "metadata": {},
     "output_type": "execute_result"
    }
   ],
   "source": [
    "clicks[clicks['user_ID']=='2c511cbd9e'].sort_values('request_time')"
   ]
  },
  {
   "cell_type": "markdown",
   "metadata": {},
   "source": [
    "- By looking up the same customer in the ___clicks___ table, we find that the customer has been browsing several items before making the purchase decision. \n",
    "- The sequence of browsing may suggest the customer was actively comparing between these substitutes as we see many back and forth clicks between several SKUs."
   ]
  },
  {
   "cell_type": "markdown",
   "metadata": {},
   "source": [
    "Now we look at how the order is fulfilled. Firstly we can look at the warehouse that is used to fulfill the order from ___orders___ table."
   ]
  },
  {
   "cell_type": "code",
   "execution_count": 15,
   "metadata": {
    "ExecuteTime": {
     "end_time": "2020-10-04T14:51:39.699661Z",
     "start_time": "2020-10-04T14:51:39.561364Z"
    }
   },
   "outputs": [
    {
     "data": {
      "text/html": [
       "<div>\n",
       "<style scoped>\n",
       "    .dataframe tbody tr th:only-of-type {\n",
       "        vertical-align: middle;\n",
       "    }\n",
       "\n",
       "    .dataframe tbody tr th {\n",
       "        vertical-align: top;\n",
       "    }\n",
       "\n",
       "    .dataframe thead th {\n",
       "        text-align: right;\n",
       "    }\n",
       "</style>\n",
       "<table border=\"1\" class=\"dataframe\">\n",
       "  <thead>\n",
       "    <tr style=\"text-align: right;\">\n",
       "      <th></th>\n",
       "      <th>sku_ID</th>\n",
       "      <th>dc_ori</th>\n",
       "      <th>dc_des</th>\n",
       "    </tr>\n",
       "  </thead>\n",
       "  <tbody>\n",
       "    <tr>\n",
       "      <th>47253</th>\n",
       "      <td>ac61f4e10e</td>\n",
       "      <td>9</td>\n",
       "      <td>27</td>\n",
       "    </tr>\n",
       "    <tr>\n",
       "      <th>47254</th>\n",
       "      <td>eb3f2d2fd8</td>\n",
       "      <td>9</td>\n",
       "      <td>27</td>\n",
       "    </tr>\n",
       "  </tbody>\n",
       "</table>\n",
       "</div>"
      ],
      "text/plain": [
       "           sku_ID  dc_ori  dc_des\n",
       "47253  ac61f4e10e       9      27\n",
       "47254  eb3f2d2fd8       9      27"
      ]
     },
     "execution_count": 15,
     "metadata": {},
     "output_type": "execute_result"
    }
   ],
   "source": [
    "orders[orders['order_ID']=='81a6fa818d'][['sku_ID', 'dc_ori', 'dc_des']]"
   ]
  },
  {
   "cell_type": "markdown",
   "metadata": {},
   "source": [
    "- We can see that both SKUs are shipped from a wharehouse in district 9 to district 27 which is the final destination."
   ]
  },
  {
   "cell_type": "markdown",
   "metadata": {},
   "source": [
    "The ___delivery___ table can provide more details on the shipment information"
   ]
  },
  {
   "cell_type": "code",
   "execution_count": 16,
   "metadata": {
    "ExecuteTime": {
     "end_time": "2020-10-04T14:51:39.801662Z",
     "start_time": "2020-10-04T14:51:39.719661Z"
    }
   },
   "outputs": [
    {
     "data": {
      "text/html": [
       "<div>\n",
       "<style scoped>\n",
       "    .dataframe tbody tr th:only-of-type {\n",
       "        vertical-align: middle;\n",
       "    }\n",
       "\n",
       "    .dataframe tbody tr th {\n",
       "        vertical-align: top;\n",
       "    }\n",
       "\n",
       "    .dataframe thead th {\n",
       "        text-align: right;\n",
       "    }\n",
       "</style>\n",
       "<table border=\"1\" class=\"dataframe\">\n",
       "  <thead>\n",
       "    <tr style=\"text-align: right;\">\n",
       "      <th></th>\n",
       "      <th>package_ID</th>\n",
       "      <th>order_ID</th>\n",
       "      <th>type</th>\n",
       "      <th>ship_out_time</th>\n",
       "      <th>arr_station_time</th>\n",
       "      <th>arr_time</th>\n",
       "    </tr>\n",
       "  </thead>\n",
       "  <tbody>\n",
       "    <tr>\n",
       "      <th>10415</th>\n",
       "      <td>81a6fa818d</td>\n",
       "      <td>81a6fa818d</td>\n",
       "      <td>1</td>\n",
       "      <td>2018-03-02 08:00:00</td>\n",
       "      <td>2018-03-02 15:00:00</td>\n",
       "      <td>2018-03-02 16:00:00</td>\n",
       "    </tr>\n",
       "  </tbody>\n",
       "</table>\n",
       "</div>"
      ],
      "text/plain": [
       "       package_ID    order_ID  type        ship_out_time     arr_station_time  \\\n",
       "10415  81a6fa818d  81a6fa818d     1  2018-03-02 08:00:00  2018-03-02 15:00:00   \n",
       "\n",
       "                  arr_time  \n",
       "10415  2018-03-02 16:00:00  "
      ]
     },
     "execution_count": 16,
     "metadata": {},
     "output_type": "execute_result"
    }
   ],
   "source": [
    "delivery[delivery['order_ID']=='81a6fa818d']"
   ]
  },
  {
   "cell_type": "markdown",
   "metadata": {},
   "source": [
    "- By looking up order '81a6fa818d' in the delivery table, we find that there is only one record, meaning the two purchased items are shipped together in one package. The associated package shipped out from warehouse shortly after the order is placed and arrived at the customer address in the morning of the next day."
   ]
  },
  {
   "cell_type": "markdown",
   "metadata": {},
   "source": [
    "The ___inventory___ table would be able to provide more insights on the fulfillment logic."
   ]
  },
  {
   "cell_type": "code",
   "execution_count": 17,
   "metadata": {
    "ExecuteTime": {
     "end_time": "2020-10-04T14:51:39.873209Z",
     "start_time": "2020-10-04T14:51:39.806662Z"
    }
   },
   "outputs": [
    {
     "data": {
      "text/html": [
       "<div>\n",
       "<style scoped>\n",
       "    .dataframe tbody tr th:only-of-type {\n",
       "        vertical-align: middle;\n",
       "    }\n",
       "\n",
       "    .dataframe tbody tr th {\n",
       "        vertical-align: top;\n",
       "    }\n",
       "\n",
       "    .dataframe thead th {\n",
       "        text-align: right;\n",
       "    }\n",
       "</style>\n",
       "<table border=\"1\" class=\"dataframe\">\n",
       "  <thead>\n",
       "    <tr style=\"text-align: right;\">\n",
       "      <th></th>\n",
       "      <th>dc_ID</th>\n",
       "      <th>sku_ID</th>\n",
       "      <th>date</th>\n",
       "    </tr>\n",
       "  </thead>\n",
       "  <tbody>\n",
       "  </tbody>\n",
       "</table>\n",
       "</div>"
      ],
      "text/plain": [
       "Empty DataFrame\n",
       "Columns: [dc_ID, sku_ID, date]\n",
       "Index: []"
      ]
     },
     "execution_count": 17,
     "metadata": {},
     "output_type": "execute_result"
    }
   ],
   "source": [
    "inventory[(inventory['sku_ID'].isin(['ac61f4e10e','eb3f2d2fd8'])) & \\\n",
    "          (inventory['date']=='2018-03-01') & (inventory['dc_ID']==27)]"
   ]
  },
  {
   "cell_type": "code",
   "execution_count": 18,
   "metadata": {
    "ExecuteTime": {
     "end_time": "2020-10-04T14:51:39.912208Z",
     "start_time": "2020-10-04T14:51:39.876208Z"
    }
   },
   "outputs": [
    {
     "data": {
      "text/html": [
       "<div>\n",
       "<style scoped>\n",
       "    .dataframe tbody tr th:only-of-type {\n",
       "        vertical-align: middle;\n",
       "    }\n",
       "\n",
       "    .dataframe tbody tr th {\n",
       "        vertical-align: top;\n",
       "    }\n",
       "\n",
       "    .dataframe thead th {\n",
       "        text-align: right;\n",
       "    }\n",
       "</style>\n",
       "<table border=\"1\" class=\"dataframe\">\n",
       "  <thead>\n",
       "    <tr style=\"text-align: right;\">\n",
       "      <th></th>\n",
       "      <th>dc_ID</th>\n",
       "      <th>sku_ID</th>\n",
       "      <th>date</th>\n",
       "    </tr>\n",
       "  </thead>\n",
       "  <tbody>\n",
       "    <tr>\n",
       "      <th>1007</th>\n",
       "      <td>9</td>\n",
       "      <td>ac61f4e10e</td>\n",
       "      <td>2018-03-01</td>\n",
       "    </tr>\n",
       "    <tr>\n",
       "      <th>2020</th>\n",
       "      <td>9</td>\n",
       "      <td>eb3f2d2fd8</td>\n",
       "      <td>2018-03-01</td>\n",
       "    </tr>\n",
       "  </tbody>\n",
       "</table>\n",
       "</div>"
      ],
      "text/plain": [
       "      dc_ID      sku_ID        date\n",
       "1007      9  ac61f4e10e  2018-03-01\n",
       "2020      9  eb3f2d2fd8  2018-03-01"
      ]
     },
     "execution_count": 18,
     "metadata": {},
     "output_type": "execute_result"
    }
   ],
   "source": [
    "inventory[(inventory['sku_ID'].isin(['ac61f4e10e','eb3f2d2fd8'])) & \\\n",
    "          (inventory['date']=='2018-03-01') & (inventory['dc_ID']==9)]"
   ]
  },
  {
   "cell_type": "markdown",
   "metadata": {},
   "source": [
    "- Note that the first statement returns no results, meaning warehouses in district 27 does not have any inventory of any of the SKUs.\n",
    "- The second statement returns two records, one for each SKU. This suggusts both SKUs are available in the warehouse.\n",
    "- This explains why the order is fulfilled from a remote warehouse (dc_ori is not the same as dc_des)."
   ]
  },
  {
   "cell_type": "markdown",
   "metadata": {},
   "source": [
    "The fulfillment logic can be further clarified using the ___network___ table."
   ]
  },
  {
   "cell_type": "code",
   "execution_count": 19,
   "metadata": {
    "ExecuteTime": {
     "end_time": "2020-10-04T14:51:39.936210Z",
     "start_time": "2020-10-04T14:51:39.918207Z"
    }
   },
   "outputs": [
    {
     "data": {
      "text/html": [
       "<div>\n",
       "<style scoped>\n",
       "    .dataframe tbody tr th:only-of-type {\n",
       "        vertical-align: middle;\n",
       "    }\n",
       "\n",
       "    .dataframe tbody tr th {\n",
       "        vertical-align: top;\n",
       "    }\n",
       "\n",
       "    .dataframe thead th {\n",
       "        text-align: right;\n",
       "    }\n",
       "</style>\n",
       "<table border=\"1\" class=\"dataframe\">\n",
       "  <thead>\n",
       "    <tr style=\"text-align: right;\">\n",
       "      <th></th>\n",
       "      <th>region_ID</th>\n",
       "      <th>dc_ID</th>\n",
       "    </tr>\n",
       "  </thead>\n",
       "  <tbody>\n",
       "    <tr>\n",
       "      <th>38</th>\n",
       "      <td>9</td>\n",
       "      <td>9</td>\n",
       "    </tr>\n",
       "    <tr>\n",
       "      <th>41</th>\n",
       "      <td>9</td>\n",
       "      <td>27</td>\n",
       "    </tr>\n",
       "  </tbody>\n",
       "</table>\n",
       "</div>"
      ],
      "text/plain": [
       "    region_ID  dc_ID\n",
       "38          9      9\n",
       "41          9     27"
      ]
     },
     "execution_count": 19,
     "metadata": {},
     "output_type": "execute_result"
    }
   ],
   "source": [
    "network[network['dc_ID'].isin([9, 27])]"
   ]
  },
  {
   "cell_type": "markdown",
   "metadata": {},
   "source": [
    "- As explained in the data paper, when dc_ID = region_ID, the warehouses in this district are used as \"central warehouses\" for \"back-up fulfillment\" when local warehouses are run out of inventory or does not store the SKUs. In this particular case, dc_ID 9 is central warehouse. As we see previous that warehouses in disctrict 27 do not have any inventory for the two ordered SKUs, a warehouse in district 9 is used for the fulfillment of this order."
   ]
  }
 ],
 "metadata": {
  "hide_input": false,
  "kernelspec": {
   "display_name": "Python 3",
   "language": "python",
   "name": "python3"
  },
  "language_info": {
   "codemirror_mode": {
    "name": "ipython",
    "version": 3
   },
   "file_extension": ".py",
   "mimetype": "text/x-python",
   "name": "python",
   "nbconvert_exporter": "python",
   "pygments_lexer": "ipython3",
   "version": "3.7.4"
  },
  "toc": {
   "base_numbering": 1,
   "nav_menu": {},
   "number_sections": true,
   "sideBar": true,
   "skip_h1_title": false,
   "title_cell": "Table of Contents",
   "title_sidebar": "Contents",
   "toc_cell": false,
   "toc_position": {},
   "toc_section_display": true,
   "toc_window_display": true
  },
  "varInspector": {
   "cols": {
    "lenName": 16,
    "lenType": 16,
    "lenVar": 40
   },
   "kernels_config": {
    "python": {
     "delete_cmd_postfix": "",
     "delete_cmd_prefix": "del ",
     "library": "var_list.py",
     "varRefreshCmd": "print(var_dic_list())"
    },
    "r": {
     "delete_cmd_postfix": ") ",
     "delete_cmd_prefix": "rm(",
     "library": "var_list.r",
     "varRefreshCmd": "cat(var_dic_list()) "
    }
   },
   "types_to_exclude": [
    "module",
    "function",
    "builtin_function_or_method",
    "instance",
    "_Feature"
   ],
   "window_display": false
  }
 },
 "nbformat": 4,
 "nbformat_minor": 4
}
